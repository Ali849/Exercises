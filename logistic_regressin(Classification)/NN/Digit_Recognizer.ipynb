{
 "cells": [
  {
   "cell_type": "markdown",
   "metadata": {},
   "source": [
    "This problem I found in [Kaggle's 'Digit Recognizer' competition](https://www.kaggle.com/c/digit-recognizer/data)"
   ]
  },
  {
   "cell_type": "markdown",
   "metadata": {},
   "source": [
    "#### Import some libraries"
   ]
  },
  {
   "cell_type": "code",
   "execution_count": 16,
   "metadata": {},
   "outputs": [],
   "source": [
    "import matplotlib.pyplot as plt\n",
    "import numpy as np\n",
    "import pandas as pd\n",
    "from random import randint"
   ]
  },
  {
   "cell_type": "markdown",
   "metadata": {},
   "source": [
    "#### Import data and set some variables"
   ]
  },
  {
   "cell_type": "code",
   "execution_count": 17,
   "metadata": {},
   "outputs": [],
   "source": [
    "training_data= pd.read_csv('train.csv')"
   ]
  },
  {
   "cell_type": "code",
   "execution_count": 18,
   "metadata": {},
   "outputs": [],
   "source": [
    "X=training_data.values[:,1:]\n",
    "y=(training_data.values[:,0])[:,np.newaxis]"
   ]
  },
  {
   "cell_type": "markdown",
   "metadata": {},
   "source": [
    "# Find optimal parametrs"
   ]
  },
  {
   "cell_type": "markdown",
   "metadata": {},
   "source": [
    "<ul>\n",
    "<li><h4>Here we gonna use onevsall , because we have 10 labels(from 0-9) so it's multiregressional problem<h4></li>\n",
    "</ul>"
   ]
  },
  {
   "cell_type": "code",
   "execution_count": 19,
   "metadata": {},
   "outputs": [],
   "source": [
    "def onevsall(X,y,num_labels):\n",
    "      m,n = X.shape\n",
    "      out_theta= np.zeros((num_labels,n+1))\n",
    "      X= np.hstack(  (np.ones((m,1))   ,  X) )\n",
    "      initial_theta=np.zeros( X.shape[1] )\n",
    "      #count=0\n",
    "      for i in range(num_labels):\n",
    "          #count+=1\n",
    "          #print('onevsall %s /10   ' %(count))\n",
    "          new_row =gradientDescent(X,  np.where(y==i,1,0) ,initial_theta, 0.1,800,3 )\n",
    "          \n",
    "          out_theta[i,:]=new_row\n",
    "          \n",
    "      return out_theta"
   ]
  },
  {
   "cell_type": "markdown",
   "metadata": {},
   "source": [
    "<ul>\n",
    "<li><h4>Check global minimum using 'Gradient Descent',so our optimization function will be 'Gradient Descent'<h4></li>\n",
    "</ul>"
   ]
  },
  {
   "cell_type": "code",
   "execution_count": 20,
   "metadata": {},
   "outputs": [],
   "source": [
    "def gradientDescent(X,y,theta,alpha,num_iters,Lambda):\n",
    "\n",
    "    \n",
    "    #count=0\n",
    "    for i in range(num_iters):\n",
    "        #count+=1\n",
    "        \n",
    "        #print('im here graddescent. Its   %s   iteration'%(count))\n",
    "        \n",
    "        cost, grad = cost_gradient(theta,X,y,3)\n",
    "        theta = theta - (alpha * grad)\n",
    "    \n",
    "    return theta"
   ]
  },
  {
   "cell_type": "code",
   "execution_count": 21,
   "metadata": {},
   "outputs": [],
   "source": [
    "def cost_gradient(theta,X,y,lambd):\n",
    "    \n",
    "    m = y.size\n",
    "    \n",
    "\n",
    "    h = sigmoid(X @ (theta.T))\n",
    "    \n",
    "\n",
    "    theta[0] = 0\n",
    "    \n",
    "    J = (1 / m) * np.sum(  (-y) @ (np.log(h)) - (1 - y) @ (np.log(1 - h))) + (lambd / (2 * m)) * np.sum(np.square(theta))\n",
    "    \n",
    "    grad = (1 / m) * ( X.T  @ (h - y) ) \n",
    "    grad = grad + (lambd / m) * theta\n",
    "\n",
    "        \n",
    "    return J, grad"
   ]
  },
  {
   "cell_type": "code",
   "execution_count": 22,
   "metadata": {},
   "outputs": [],
   "source": [
    "def sigmoid(z):\n",
    "    return 1 / ( 1 + np.exp(-z) )"
   ]
  },
  {
   "cell_type": "markdown",
   "metadata": {},
   "source": [
    "<ul>\n",
    "<li><h4>To avoid the problem of 'log(0)'<h4></li>\n",
    "</ul> "
   ]
  },
  {
   "cell_type": "code",
   "execution_count": 23,
   "metadata": {},
   "outputs": [],
   "source": [
    "def future_scaling(sigma,mu,x):\n",
    "    return((x-mu)/sigma)"
   ]
  },
  {
   "cell_type": "markdown",
   "metadata": {},
   "source": [
    "<ul>\n",
    "<li><h4>Finding values of theta<h4></li>\n",
    "</ul> "
   ]
  },
  {
   "cell_type": "code",
   "execution_count": 28,
   "metadata": {},
   "outputs": [],
   "source": [
    "def opt_theta(a1,y):\n",
    "    #print('now am gonna find Theta1')\n",
    "    theta1=onevsall(a1,y,10)\n",
    "    a1=np.hstack( (np.ones((a1.shape[0],1))   , a1) )\n",
    "    a2=sigmoid(a1 @ theta1.T)\n",
    "    #print('now am gonna find Theta2')\n",
    "    theta2=onevsall(a2,y,10)\n",
    "    \n",
    "    return theta1,theta2"
   ]
  },
  {
   "cell_type": "markdown",
   "metadata": {},
   "source": [
    "# Set our predict accuracy"
   ]
  },
  {
   "cell_type": "code",
   "execution_count": 29,
   "metadata": {},
   "outputs": [],
   "source": [
    "def predict(theta1,theta2,X):\n",
    "    m,n= X.shape[0], X.shape[1]\n",
    "    \n",
    "    p= np.zeros((m,1))\n",
    "    X=np.hstack( (np.ones((m,1))   , X) )\n",
    "    \n",
    "    \n",
    "    a2=sigmoid(X @ theta1.T)\n",
    "    a2=np.hstack((np.ones((a2.shape[0],1)) , a2  ))\n",
    "    \n",
    "    a3= sigmoid(a2 @ theta2.T)\n",
    "    \n",
    "    for i in np.arange(m):\n",
    "        for_picture= a3[i,:]\n",
    "        put= np.argmax(for_picture)\n",
    "        p[i]=put\n",
    "        \n",
    "    return p"
   ]
  },
  {
   "cell_type": "code",
   "execution_count": 30,
   "metadata": {},
   "outputs": [],
   "source": [
    "mu=np.mean(X)\n",
    "sigma=np.std(X)    \n",
    "X=future_scaling(sigma,mu,X)"
   ]
  },
  {
   "cell_type": "code",
   "execution_count": 31,
   "metadata": {},
   "outputs": [],
   "source": [
    "y=y.flatten()\n",
    "theta1,theta2= opt_theta(X,y)"
   ]
  },
  {
   "cell_type": "code",
   "execution_count": 66,
   "metadata": {},
   "outputs": [
    {
     "name": "stdout",
     "output_type": "stream",
     "text": [
      "accuracy: 91.74761904761904\n"
     ]
    }
   ],
   "source": [
    "pred =  predict(theta1,theta2,X)\n",
    "pred=pred.flatten()\n",
    "print(   \"accuracy:\" , np.mean((y+1)==pred)    * 100     )"
   ]
  },
  {
   "cell_type": "markdown",
   "metadata": {},
   "source": [
    "## Let's try our parametrs and check how good it works"
   ]
  },
  {
   "cell_type": "code",
   "execution_count": 32,
   "metadata": {},
   "outputs": [],
   "source": [
    "def disp_image(X):\n",
    "    \n",
    "     m,n= X.shape\n",
    "     \n",
    "     fig, axis = plt.subplots(m,figsize=(4,4))\n",
    "\n",
    "\n",
    "     axis.imshow(X.reshape(28,28), cmap=\"Greys\") \n",
    "     axis.axis(\"off\")"
   ]
  },
  {
   "cell_type": "code",
   "execution_count": 57,
   "metadata": {},
   "outputs": [
    {
     "name": "stdout",
     "output_type": "stream",
     "text": [
      "is it 3.0 ?\n"
     ]
    },
    {
     "data": {
      "image/png": "[encoded data removed]",
      "text/plain": [
       "<Figure size 288x288 with 1 Axes>"
      ]
     },
     "metadata": {
      "needs_background": "light"
     },
     "output_type": "display_data"
    }
   ],
   "source": [
    "from random import randrange\n",
    "\n",
    "test_data=pd.read_csv('test.csv')\n",
    "lets_predict = test_data.values[:,:]\n",
    "\n",
    "mu=np.mean(lets_predict)\n",
    "sigma=np.std(lets_predict)\n",
    "\n",
    "lets_predict=future_scaling(sigma,mu,lets_predict)\n",
    "\n",
    "num=randrange(0,28001)\n",
    "X_pred= (lets_predict[num,:])[np.newaxis,:]\n",
    "disp_image(X_pred)\n",
    "prd=predict(theta1,theta2,X_pred)\n",
    "print('is it %s ?' %(prd[0,0])  )"
   ]
  },
  {
   "cell_type": "code",
   "execution_count": null,
   "metadata": {},
   "outputs": [],
   "source": []
  }
 ],
 "metadata": {
  "kernelspec": {
   "display_name": "Python 3",
   "language": "python",
   "name": "python3"
  },
  "language_info": {
   "codemirror_mode": {
    "name": "ipython",
    "version": 3
   },
   "file_extension": ".py",
   "mimetype": "text/x-python",
   "name": "python",
   "nbconvert_exporter": "python",
   "pygments_lexer": "ipython3",
   "version": "3.7.4"
  }
 },
 "nbformat": 4,
 "nbformat_minor": 2
}
